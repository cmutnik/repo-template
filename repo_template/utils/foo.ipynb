{
 "cells": [
  {
   "cell_type": "code",
   "execution_count": null,
   "metadata": {},
   "outputs": [],
   "source": []
  },
  {
   "cell_type": "code",
   "execution_count": 1,
   "metadata": {},
   "outputs": [],
   "source": [
    "\n",
    "\"\"\"Utility and auxiliary functions for `repo_template.utils.aux_funcs` module.\"\"\"\n",
    "\n",
    "import subprocess\n",
    "\n",
    "def execute_command(command: str) -> subprocess.CompletedProcess:\n",
    "    \"\"\"Execute provided command.\n",
    "    \n",
    "    This function exists for sphinx docs demonstration.\n",
    "\n",
    "    Args:\n",
    "        uninstall_command (str): Command to be executed.\n",
    "\n",
    "    Returns:\n",
    "        subprocess.CompletedProcess: Executed command details.\n",
    "    \"\"\"\n",
    "    uninstall_command_return = subprocess.run(\n",
    "        command,\n",
    "        shell=True,\n",
    "        stderr=subprocess.PIPE,\n",
    "        stdout=subprocess.PIPE,\n",
    "    )\n",
    "    return uninstall_command_return\n",
    "\n",
    "def parse_out_response(uninstall_command_return: subprocess.CompletedProcess) -> str:\n",
    "    \"\"\"Parse out response from executed command.\n",
    "\n",
    "    This function exists for sphinx docs demonstration.\n",
    "\n",
    "    Args:\n",
    "        uninstall_command_return (subprocess.CompletedProcess): Executed command details.\n",
    "\n",
    "    Returns:\n",
    "        str: Response from executing command.\n",
    "    \"\"\"\n",
    "    # Print results.\n",
    "    if uninstall_command_return.stderr != b'':\n",
    "        response = uninstall_command_return.stderr\n",
    "        print(f\"Returned Error: {response}\")\n",
    "    else:\n",
    "        response = uninstall_command_return.stdout.decode(\"utf-8\")\n",
    "        print(f\"Command that was executed:\\n{response}\")\n",
    "        print(uninstall_command_return.stdout.decode(\"utf-8\"))\n",
    "    return response"
   ]
  },
  {
   "cell_type": "code",
   "execution_count": 2,
   "metadata": {},
   "outputs": [],
   "source": [
    "command = \"ls\"\n",
    "uninstall_command_return = subprocess.run(\n",
    "    command,\n",
    "    shell=True,\n",
    "    stderr=subprocess.PIPE,\n",
    "    stdout=subprocess.PIPE,\n",
    ")"
   ]
  },
  {
   "cell_type": "code",
   "execution_count": 4,
   "metadata": {},
   "outputs": [
    {
     "data": {
      "text/plain": [
       "['__class__',\n",
       " '__class_getitem__',\n",
       " '__delattr__',\n",
       " '__dict__',\n",
       " '__dir__',\n",
       " '__doc__',\n",
       " '__eq__',\n",
       " '__format__',\n",
       " '__ge__',\n",
       " '__getattribute__',\n",
       " '__getstate__',\n",
       " '__gt__',\n",
       " '__hash__',\n",
       " '__init__',\n",
       " '__init_subclass__',\n",
       " '__le__',\n",
       " '__lt__',\n",
       " '__module__',\n",
       " '__ne__',\n",
       " '__new__',\n",
       " '__reduce__',\n",
       " '__reduce_ex__',\n",
       " '__repr__',\n",
       " '__setattr__',\n",
       " '__sizeof__',\n",
       " '__str__',\n",
       " '__subclasshook__',\n",
       " '__weakref__',\n",
       " 'args',\n",
       " 'check_returncode',\n",
       " 'returncode',\n",
       " 'stderr',\n",
       " 'stdout']"
      ]
     },
     "execution_count": 4,
     "metadata": {},
     "output_type": "execute_result"
    }
   ],
   "source": [
    "dir(uninstall_command_return)"
   ]
  },
  {
   "cell_type": "code",
   "execution_count": 11,
   "metadata": {},
   "outputs": [
    {
     "name": "stdout",
     "output_type": "stream",
     "text": [
      "\u001b[34mDeploy\u001b[m\u001b[m\n",
      "LICENSE\n",
      "README.md\n",
      "\u001b[34m_build\u001b[m\u001b[m\n",
      "\u001b[34mbuild\u001b[m\u001b[m\n",
      "\u001b[34mbuild2\u001b[m\u001b[m\n",
      "\u001b[34mdocs\u001b[m\u001b[m\n",
      "pyproject.toml\n",
      "\u001b[34mrepo_template\u001b[m\u001b[m\n",
      "\u001b[34mrepo_template.egg-info\u001b[m\u001b[m\n",
      "\n"
     ]
    }
   ],
   "source": []
  },
  {
   "cell_type": "code",
   "execution_count": null,
   "metadata": {},
   "outputs": [],
   "source": []
  }
 ],
 "metadata": {
  "kernelspec": {
   "display_name": "base",
   "language": "python",
   "name": "python3"
  },
  "language_info": {
   "codemirror_mode": {
    "name": "ipython",
    "version": 3
   },
   "file_extension": ".py",
   "mimetype": "text/x-python",
   "name": "python",
   "nbconvert_exporter": "python",
   "pygments_lexer": "ipython3",
   "version": "3.12.2"
  }
 },
 "nbformat": 4,
 "nbformat_minor": 2
}
